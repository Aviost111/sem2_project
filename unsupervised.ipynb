{
 "cells": [
  {
   "cell_type": "code",
   "execution_count": 37,
   "id": "bb230627",
   "metadata": {},
   "outputs": [],
   "source": [
    "import numpy as np\n",
    "\n",
    "import sklearn\n",
    "\n",
    "import seaborn as sns\n",
    "\n",
    "import os\n",
    "\n",
    "import random\n",
    "\n",
    "import matplotlib.pyplot as plt\n",
    "\n",
    "import matplotlib.image as mpimg\n",
    "\n",
    "from tqdm import tqdm\n",
    "\n",
    "import pandas as pd\n",
    "\n",
    "from sklearn.utils import shuffle\n",
    "from sklearn.cluster import MiniBatchKMeans\n",
    "import cv2\n",
    "from sklearn.preprocessing import StandardScaler\n",
    "from PIL import Image \n",
    "from sklearn.decomposition import PCA\n",
    "from sklearn.pipeline import Pipeline\n",
    "from numpy import asarray\n",
    "from sklearn.linear_model import LogisticRegression\n",
    "from sklearn.model_selection import train_test_split\n",
    "from sklearn.dummy import DummyClassifier\n",
    "from sklearn.feature_selection import SelectKBest\n",
    "from sklearn.metrics import classification_report\n",
    "from sklearn import metrics\n",
    "from sklearn.metrics import accuracy_score, precision_score, recall_score\n",
    "from sklearn.metrics import roc_curve\n",
    "from sklearn.metrics import roc_auc_score\n",
    "from sklearn.metrics import confusion_matrix\n",
    "from sklearn.model_selection import cross_val_predict\n",
    "from sklearn.model_selection import cross_val_score\n",
    "from sklearn.model_selection import KFold\n",
    "from sklearn.ensemble import RandomForestClassifier\n",
    "from sklearn.tree import DecisionTreeClassifier\n",
    "from sklearn.ensemble import AdaBoostClassifier\n",
    "from sklearn.ensemble import GradientBoostingClassifier\n",
    "from xgboost import XGBClassifier\n",
    "from sklearn.feature_selection import f_classif\n",
    "from sklearn.model_selection import RandomizedSearchCV"
   ]
  },
  {
   "cell_type": "code",
   "execution_count": 4,
   "id": "5a26dc9a",
   "metadata": {},
   "outputs": [],
   "source": [
    "training_data = np.load('training_data3.npy',allow_pickle=True)"
   ]
  },
  {
   "cell_type": "code",
   "execution_count": 10,
   "id": "2c9857ea",
   "metadata": {},
   "outputs": [],
   "source": [
    "X_train =np.array([i[0] for i in training_data])\n",
    "Y_train =np.array([i[1] for i in training_data])\n",
    "X_train=X_train.reshape(25000,2500)"
   ]
  },
  {
   "cell_type": "code",
   "execution_count": 11,
   "id": "b091bd88",
   "metadata": {},
   "outputs": [],
   "source": [
    "X_train2, X_test2, y_train2, y_test2 = train_test_split(X_train, Y_train, test_size=0.1, random_state=42)"
   ]
  },
  {
   "cell_type": "code",
   "execution_count": 39,
   "id": "0a6b45a1",
   "metadata": {},
   "outputs": [
    {
     "name": "stdout",
     "output_type": "stream",
     "text": [
      "CPU times: total: 1min 27s\n",
      "Wall time: 24.4 s\n"
     ]
    },
    {
     "data": {
      "text/plain": [
       "Pipeline(steps=[('std_scaler', StandardScaler()),\n",
       "                ('pca',\n",
       "                 PCA(n_components=0.9, random_state=0, svd_solver='full')),\n",
       "                ('miniBatchKmeans',\n",
       "                 MiniBatchKMeans(batch_size=2000, n_clusters=10,\n",
       "                                 random_state=42)),\n",
       "                ('lg', LogisticRegression(solver='liblinear'))])"
      ]
     },
     "execution_count": 39,
     "metadata": {},
     "output_type": "execute_result"
    }
   ],
   "source": [
    "%%time\n",
    "pipeline = Pipeline([\n",
    " (\"std_scaler\", StandardScaler()),\n",
    " (\"pca\", PCA(n_components=0.90, random_state=0,svd_solver='full')),(\"miniBatchKmeans\",MiniBatchKMeans(n_clusters=10,random_state=42,batch_size=2000)),\n",
    " (\"lg\",LogisticRegression(solver='liblinear',penalty='l2'))])\n",
    "pipeline.fit(X_train2,y_train2)\n",
    "#x_train_r = pipeline.fit_transform(X_train2)\n",
    "#x_test_r = pipeline.transform(X_test2)"
   ]
  },
  {
   "cell_type": "code",
   "execution_count": 43,
   "id": "b926602d",
   "metadata": {},
   "outputs": [],
   "source": [
    "y_pred=pipeline.predict(X_test2)"
   ]
  },
  {
   "cell_type": "code",
   "execution_count": 45,
   "id": "3c0bac95",
   "metadata": {},
   "outputs": [
    {
     "data": {
      "text/plain": [
       "0.5756"
      ]
     },
     "execution_count": 45,
     "metadata": {},
     "output_type": "execute_result"
    }
   ],
   "source": [
    "precision = precision_score(y_test2, y_pred, average='micro')\n",
    "precision"
   ]
  },
  {
   "cell_type": "code",
   "execution_count": 35,
   "id": "e60b8b3d",
   "metadata": {},
   "outputs": [
    {
     "data": {
      "text/plain": [
       "{0: 11298, 1: 11202}"
      ]
     },
     "execution_count": 35,
     "metadata": {},
     "output_type": "execute_result"
    }
   ],
   "source": [
    "unique, counts = np.unique(y_train2, return_counts=True)\n",
    "dict(zip(unique, counts))"
   ]
  },
  {
   "cell_type": "code",
   "execution_count": 20,
   "id": "6e3261c3",
   "metadata": {},
   "outputs": [
    {
     "data": {
      "text/plain": [
       "(22500, 138)"
      ]
     },
     "execution_count": 20,
     "metadata": {},
     "output_type": "execute_result"
    }
   ],
   "source": [
    "x_train_r.shape"
   ]
  },
  {
   "cell_type": "code",
   "execution_count": 26,
   "id": "4988e504",
   "metadata": {},
   "outputs": [],
   "source": [
    "columns=[]\n",
    "for i in range(138):\n",
    "    columns.append(i)\n",
    "df=pd.DataFrame(x_train_r,columns=columns)\n"
   ]
  },
  {
   "cell_type": "code",
   "execution_count": null,
   "id": "6d31b874",
   "metadata": {},
   "outputs": [],
   "source": [
    "x_train_r"
   ]
  },
  {
   "cell_type": "code",
   "execution_count": 27,
   "id": "5cd55502",
   "metadata": {},
   "outputs": [],
   "source": [
    "km = KMeans(n_clusters=2)\n",
    "df['clusters']=km.fit_predict(df)"
   ]
  },
  {
   "cell_type": "code",
   "execution_count": 28,
   "id": "12e524f3",
   "metadata": {},
   "outputs": [
    {
     "data": {
      "text/html": [
       "<div>\n",
       "<style scoped>\n",
       "    .dataframe tbody tr th:only-of-type {\n",
       "        vertical-align: middle;\n",
       "    }\n",
       "\n",
       "    .dataframe tbody tr th {\n",
       "        vertical-align: top;\n",
       "    }\n",
       "\n",
       "    .dataframe thead th {\n",
       "        text-align: right;\n",
       "    }\n",
       "</style>\n",
       "<table border=\"1\" class=\"dataframe\">\n",
       "  <thead>\n",
       "    <tr style=\"text-align: right;\">\n",
       "      <th></th>\n",
       "      <th>0</th>\n",
       "      <th>1</th>\n",
       "      <th>2</th>\n",
       "      <th>3</th>\n",
       "      <th>4</th>\n",
       "      <th>5</th>\n",
       "      <th>6</th>\n",
       "      <th>7</th>\n",
       "      <th>8</th>\n",
       "      <th>9</th>\n",
       "      <th>...</th>\n",
       "      <th>129</th>\n",
       "      <th>130</th>\n",
       "      <th>131</th>\n",
       "      <th>132</th>\n",
       "      <th>133</th>\n",
       "      <th>134</th>\n",
       "      <th>135</th>\n",
       "      <th>136</th>\n",
       "      <th>137</th>\n",
       "      <th>clusters</th>\n",
       "    </tr>\n",
       "  </thead>\n",
       "  <tbody>\n",
       "    <tr>\n",
       "      <th>0</th>\n",
       "      <td>-41.267071</td>\n",
       "      <td>-31.894834</td>\n",
       "      <td>-14.888754</td>\n",
       "      <td>2.600466</td>\n",
       "      <td>0.401965</td>\n",
       "      <td>8.562745</td>\n",
       "      <td>2.995582</td>\n",
       "      <td>-6.235227</td>\n",
       "      <td>-4.388335</td>\n",
       "      <td>3.886705</td>\n",
       "      <td>...</td>\n",
       "      <td>0.173221</td>\n",
       "      <td>0.509620</td>\n",
       "      <td>-0.948905</td>\n",
       "      <td>0.596653</td>\n",
       "      <td>0.209553</td>\n",
       "      <td>0.432696</td>\n",
       "      <td>0.002284</td>\n",
       "      <td>1.402822</td>\n",
       "      <td>0.410901</td>\n",
       "      <td>0</td>\n",
       "    </tr>\n",
       "    <tr>\n",
       "      <th>1</th>\n",
       "      <td>-11.681310</td>\n",
       "      <td>13.033255</td>\n",
       "      <td>2.770843</td>\n",
       "      <td>32.593634</td>\n",
       "      <td>18.343280</td>\n",
       "      <td>-7.535692</td>\n",
       "      <td>5.163179</td>\n",
       "      <td>0.859777</td>\n",
       "      <td>5.436631</td>\n",
       "      <td>2.407400</td>\n",
       "      <td>...</td>\n",
       "      <td>0.836877</td>\n",
       "      <td>-0.593673</td>\n",
       "      <td>-0.186260</td>\n",
       "      <td>-0.204920</td>\n",
       "      <td>0.480493</td>\n",
       "      <td>0.512806</td>\n",
       "      <td>-0.579401</td>\n",
       "      <td>0.346211</td>\n",
       "      <td>-0.256169</td>\n",
       "      <td>0</td>\n",
       "    </tr>\n",
       "    <tr>\n",
       "      <th>2</th>\n",
       "      <td>10.676348</td>\n",
       "      <td>-1.217116</td>\n",
       "      <td>1.428110</td>\n",
       "      <td>17.341074</td>\n",
       "      <td>-7.705597</td>\n",
       "      <td>-4.046649</td>\n",
       "      <td>-8.011613</td>\n",
       "      <td>5.801128</td>\n",
       "      <td>-7.873656</td>\n",
       "      <td>-9.366923</td>\n",
       "      <td>...</td>\n",
       "      <td>2.486888</td>\n",
       "      <td>1.301362</td>\n",
       "      <td>-0.393228</td>\n",
       "      <td>0.297429</td>\n",
       "      <td>-1.477355</td>\n",
       "      <td>0.391562</td>\n",
       "      <td>-0.081271</td>\n",
       "      <td>2.574019</td>\n",
       "      <td>-0.707394</td>\n",
       "      <td>1</td>\n",
       "    </tr>\n",
       "    <tr>\n",
       "      <th>3</th>\n",
       "      <td>21.311410</td>\n",
       "      <td>-13.340976</td>\n",
       "      <td>-23.773326</td>\n",
       "      <td>5.307889</td>\n",
       "      <td>-12.315313</td>\n",
       "      <td>-0.681360</td>\n",
       "      <td>-1.216235</td>\n",
       "      <td>0.494824</td>\n",
       "      <td>-7.715110</td>\n",
       "      <td>2.729092</td>\n",
       "      <td>...</td>\n",
       "      <td>0.930746</td>\n",
       "      <td>0.291648</td>\n",
       "      <td>-0.262430</td>\n",
       "      <td>0.581628</td>\n",
       "      <td>-1.422573</td>\n",
       "      <td>0.170102</td>\n",
       "      <td>-0.967607</td>\n",
       "      <td>-1.260439</td>\n",
       "      <td>-1.312785</td>\n",
       "      <td>1</td>\n",
       "    </tr>\n",
       "    <tr>\n",
       "      <th>4</th>\n",
       "      <td>-34.578580</td>\n",
       "      <td>-19.307641</td>\n",
       "      <td>5.338705</td>\n",
       "      <td>-6.945705</td>\n",
       "      <td>-0.630910</td>\n",
       "      <td>8.161269</td>\n",
       "      <td>3.728581</td>\n",
       "      <td>-1.632759</td>\n",
       "      <td>-1.893036</td>\n",
       "      <td>-5.783256</td>\n",
       "      <td>...</td>\n",
       "      <td>0.456975</td>\n",
       "      <td>1.712013</td>\n",
       "      <td>-0.099563</td>\n",
       "      <td>2.849832</td>\n",
       "      <td>-1.153332</td>\n",
       "      <td>-0.752673</td>\n",
       "      <td>-1.850130</td>\n",
       "      <td>0.070908</td>\n",
       "      <td>1.062444</td>\n",
       "      <td>0</td>\n",
       "    </tr>\n",
       "  </tbody>\n",
       "</table>\n",
       "<p>5 rows × 139 columns</p>\n",
       "</div>"
      ],
      "text/plain": [
       "           0          1          2          3          4         5         6  \\\n",
       "0 -41.267071 -31.894834 -14.888754   2.600466   0.401965  8.562745  2.995582   \n",
       "1 -11.681310  13.033255   2.770843  32.593634  18.343280 -7.535692  5.163179   \n",
       "2  10.676348  -1.217116   1.428110  17.341074  -7.705597 -4.046649 -8.011613   \n",
       "3  21.311410 -13.340976 -23.773326   5.307889 -12.315313 -0.681360 -1.216235   \n",
       "4 -34.578580 -19.307641   5.338705  -6.945705  -0.630910  8.161269  3.728581   \n",
       "\n",
       "          7         8         9  ...       129       130       131       132  \\\n",
       "0 -6.235227 -4.388335  3.886705  ...  0.173221  0.509620 -0.948905  0.596653   \n",
       "1  0.859777  5.436631  2.407400  ...  0.836877 -0.593673 -0.186260 -0.204920   \n",
       "2  5.801128 -7.873656 -9.366923  ...  2.486888  1.301362 -0.393228  0.297429   \n",
       "3  0.494824 -7.715110  2.729092  ...  0.930746  0.291648 -0.262430  0.581628   \n",
       "4 -1.632759 -1.893036 -5.783256  ...  0.456975  1.712013 -0.099563  2.849832   \n",
       "\n",
       "        133       134       135       136       137  clusters  \n",
       "0  0.209553  0.432696  0.002284  1.402822  0.410901         0  \n",
       "1  0.480493  0.512806 -0.579401  0.346211 -0.256169         0  \n",
       "2 -1.477355  0.391562 -0.081271  2.574019 -0.707394         1  \n",
       "3 -1.422573  0.170102 -0.967607 -1.260439 -1.312785         1  \n",
       "4 -1.153332 -0.752673 -1.850130  0.070908  1.062444         0  \n",
       "\n",
       "[5 rows x 139 columns]"
      ]
     },
     "execution_count": 28,
     "metadata": {},
     "output_type": "execute_result"
    }
   ],
   "source": [
    "df.head()"
   ]
  },
  {
   "cell_type": "code",
   "execution_count": 29,
   "id": "d01055c4",
   "metadata": {},
   "outputs": [
    {
     "data": {
      "text/plain": [
       "0    11385\n",
       "1    11115\n",
       "Name: clusters, dtype: int64"
      ]
     },
     "execution_count": 29,
     "metadata": {},
     "output_type": "execute_result"
    }
   ],
   "source": [
    "df.clusters.value_counts()"
   ]
  },
  {
   "cell_type": "code",
   "execution_count": null,
   "id": "ffe7fee2",
   "metadata": {},
   "outputs": [],
   "source": []
  }
 ],
 "metadata": {
  "kernelspec": {
   "display_name": "Python 3 (ipykernel)",
   "language": "python",
   "name": "python3"
  },
  "language_info": {
   "codemirror_mode": {
    "name": "ipython",
    "version": 3
   },
   "file_extension": ".py",
   "mimetype": "text/x-python",
   "name": "python",
   "nbconvert_exporter": "python",
   "pygments_lexer": "ipython3",
   "version": "3.9.12"
  }
 },
 "nbformat": 4,
 "nbformat_minor": 5
}
