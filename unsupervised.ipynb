{
 "cells": [
  {
   "cell_type": "code",
   "execution_count": 84,
   "id": "179c0970",
   "metadata": {},
   "outputs": [],
   "source": [
    "import numpy as np\n",
    "import sklearn\n",
    "import matplotlib.pyplot as plt\n",
    "import matplotlib.image as mpimg\n",
    "import pandas as pd\n",
    "from sklearn.cluster import MiniBatchKMeans\n",
    "from sklearn.preprocessing import StandardScaler \n",
    "from sklearn.decomposition import PCA\n",
    "from sklearn.pipeline import Pipeline\n",
    "from sklearn.linear_model import LogisticRegression\n",
    "from sklearn.model_selection import train_test_split\n",
    "from sklearn.metrics import accuracy_score, precision_score, recall_score\n",
    "from sklearn.model_selection import cross_val_predict\n",
    "from sklearn.model_selection import cross_val_score"
   ]
  },
  {
   "cell_type": "code",
   "execution_count": 85,
   "id": "4ac9bc30",
   "metadata": {},
   "outputs": [],
   "source": [
    "training_data = np.load('training_data3.npy',allow_pickle=True)"
   ]
  },
  {
   "cell_type": "code",
   "execution_count": 86,
   "id": "16f23808",
   "metadata": {},
   "outputs": [],
   "source": [
    "X_train =np.array([i[0] for i in training_data])\n",
    "Y_train =np.array([i[1] for i in training_data])\n",
    "X_train=X_train.reshape(25000,2500)"
   ]
  },
  {
   "cell_type": "code",
   "execution_count": 87,
   "id": "cf922f72",
   "metadata": {},
   "outputs": [],
   "source": [
    "X_train2, X_test2, y_train2, y_test2 = train_test_split(X_train, Y_train, test_size=0.1, random_state=42)"
   ]
  },
  {
   "cell_type": "code",
   "execution_count": 88,
   "id": "d5bb177e",
   "metadata": {},
   "outputs": [
    {
     "name": "stdout",
     "output_type": "stream",
     "text": [
      "CPU times: total: 1min 37s\n",
      "Wall time: 27.6 s\n"
     ]
    },
    {
     "data": {
      "text/plain": [
       "Pipeline(steps=[('std_scaler', StandardScaler()),\n",
       "                ('pca',\n",
       "                 PCA(n_components=0.9, random_state=0, svd_solver='full')),\n",
       "                ('miniBatchKmeans',\n",
       "                 MiniBatchKMeans(batch_size=2000, random_state=42)),\n",
       "                ('lg', LogisticRegression(solver='liblinear'))])"
      ]
     },
     "execution_count": 88,
     "metadata": {},
     "output_type": "execute_result"
    }
   ],
   "source": [
    "%%time\n",
    "pipeline = Pipeline([\n",
    " (\"std_scaler\", StandardScaler()),\n",
    " (\"pca\", PCA(n_components=0.90, random_state=0,svd_solver='full')),(\"miniBatchKmeans\",MiniBatchKMeans(n_clusters=8,random_state=42,batch_size=2000)),\n",
    " (\"lg\",LogisticRegression(solver='liblinear',penalty='l2'))])\n",
    "pipeline.fit(X_train2,y_train2)\n",
    "#x_train_r = pipeline.fit_transform(X_train2)\n",
    "#x_test_r = pipeline.transform(X_test2)"
   ]
  },
  {
   "cell_type": "code",
   "execution_count": 89,
   "id": "c7e86446",
   "metadata": {},
   "outputs": [],
   "source": [
    "y_pred=pipeline.predict(X_test2)"
   ]
  },
  {
   "cell_type": "code",
   "execution_count": 90,
   "id": "42b6c75c",
   "metadata": {},
   "outputs": [
    {
     "data": {
      "text/plain": [
       "0.5784"
      ]
     },
     "execution_count": 90,
     "metadata": {},
     "output_type": "execute_result"
    }
   ],
   "source": [
    "precision = precision_score(y_test2, y_pred, average='micro')\n",
    "precision"
   ]
  },
  {
   "cell_type": "code",
   "execution_count": null,
   "id": "c2263ebc",
   "metadata": {},
   "outputs": [],
   "source": []
  }
 ],
 "metadata": {
  "kernelspec": {
   "display_name": "Python 3 (ipykernel)",
   "language": "python",
   "name": "python3"
  },
  "language_info": {
   "codemirror_mode": {
    "name": "ipython",
    "version": 3
   },
   "file_extension": ".py",
   "mimetype": "text/x-python",
   "name": "python",
   "nbconvert_exporter": "python",
   "pygments_lexer": "ipython3",
   "version": "3.9.12"
  }
 },
 "nbformat": 4,
 "nbformat_minor": 5
}
